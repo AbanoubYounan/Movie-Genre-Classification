{
 "cells": [
  {
   "cell_type": "code",
   "execution_count": 1,
   "id": "107d17a9",
   "metadata": {},
   "outputs": [],
   "source": [
    "import pandas as pd\n",
    "import numpy as np\n",
    "import matplotlib.pyplot as plt\n",
    "import seaborn as sns\n",
    "import nltk\n",
    "from nltk.corpus import stopwords\n",
    "from nltk.stem import PorterStemmer, WordNetLemmatizer\n",
    "import re\n",
    "import os\n",
    "from sklearn.model_selection import train_test_split"
   ]
  },
  {
   "cell_type": "code",
   "execution_count": 2,
   "id": "7c80f7a4",
   "metadata": {},
   "outputs": [],
   "source": [
    "# Detect if the notebook run on Kaggle or Localhost.\n",
    "if os.environ.get('KAGGLE_KERNEL_RUN_TYPE',''):\n",
    "    path = '../input/imdb-movies-genre-classification/Movies_Genre_Description.csv'\n",
    "else:\n",
    "    path = 'Movies_Genre_Description.csv'    "
   ]
  },
  {
   "cell_type": "code",
   "execution_count": 3,
   "id": "83572428",
   "metadata": {},
   "outputs": [
    {
     "data": {
      "text/html": [
       "<div>\n",
       "<style scoped>\n",
       "    .dataframe tbody tr th:only-of-type {\n",
       "        vertical-align: middle;\n",
       "    }\n",
       "\n",
       "    .dataframe tbody tr th {\n",
       "        vertical-align: top;\n",
       "    }\n",
       "\n",
       "    .dataframe thead th {\n",
       "        text-align: right;\n",
       "    }\n",
       "</style>\n",
       "<table border=\"1\" class=\"dataframe\">\n",
       "  <thead>\n",
       "    <tr style=\"text-align: right;\">\n",
       "      <th></th>\n",
       "      <th>TITLE</th>\n",
       "      <th>GENRE</th>\n",
       "      <th>DESCRIPTION</th>\n",
       "      <th>DATE</th>\n",
       "    </tr>\n",
       "  </thead>\n",
       "  <tbody>\n",
       "    <tr>\n",
       "      <th>0</th>\n",
       "      <td>Oscar et la dame rose</td>\n",
       "      <td>Oscar et la dame rose</td>\n",
       "      <td>Listening in to a conversation between his doc...</td>\n",
       "      <td>2009</td>\n",
       "    </tr>\n",
       "    <tr>\n",
       "      <th>1</th>\n",
       "      <td>Cupid</td>\n",
       "      <td>thriller</td>\n",
       "      <td>A brother and sister with a past incestuous re...</td>\n",
       "      <td>1997</td>\n",
       "    </tr>\n",
       "    <tr>\n",
       "      <th>2</th>\n",
       "      <td>Young, Wild and Wonderful</td>\n",
       "      <td>adult</td>\n",
       "      <td>As the bus empties the students for their fiel...</td>\n",
       "      <td>1980</td>\n",
       "    </tr>\n",
       "    <tr>\n",
       "      <th>3</th>\n",
       "      <td>The Secret Sin</td>\n",
       "      <td>drama</td>\n",
       "      <td>To help their unemployed father make ends meet...</td>\n",
       "      <td>1915</td>\n",
       "    </tr>\n",
       "    <tr>\n",
       "      <th>4</th>\n",
       "      <td>The Unrecovered</td>\n",
       "      <td>drama</td>\n",
       "      <td>The film's title refers not only to the un-rec...</td>\n",
       "      <td>2007</td>\n",
       "    </tr>\n",
       "  </tbody>\n",
       "</table>\n",
       "</div>"
      ],
      "text/plain": [
       "                       TITLE                  GENRE  \\\n",
       "0      Oscar et la dame rose  Oscar et la dame rose   \n",
       "1                      Cupid               thriller   \n",
       "2  Young, Wild and Wonderful                  adult   \n",
       "3             The Secret Sin                  drama   \n",
       "4            The Unrecovered                  drama   \n",
       "\n",
       "                                         DESCRIPTION  DATE  \n",
       "0  Listening in to a conversation between his doc...  2009  \n",
       "1  A brother and sister with a past incestuous re...  1997  \n",
       "2  As the bus empties the students for their fiel...  1980  \n",
       "3  To help their unemployed father make ends meet...  1915  \n",
       "4  The film's title refers not only to the un-rec...  2007  "
      ]
     },
     "execution_count": 3,
     "metadata": {},
     "output_type": "execute_result"
    }
   ],
   "source": [
    "df = pd.read_csv(path)\n",
    "df.head()"
   ]
  },
  {
   "cell_type": "code",
   "execution_count": 4,
   "id": "faff3393",
   "metadata": {},
   "outputs": [
    {
     "name": "stdout",
     "output_type": "stream",
     "text": [
      "<class 'pandas.core.frame.DataFrame'>\n",
      "RangeIndex: 108414 entries, 0 to 108413\n",
      "Data columns (total 4 columns):\n",
      " #   Column       Non-Null Count   Dtype \n",
      "---  ------       --------------   ----- \n",
      " 0   TITLE        108414 non-null  object\n",
      " 1   GENRE        108414 non-null  object\n",
      " 2   DESCRIPTION  108414 non-null  object\n",
      " 3   DATE         108414 non-null  object\n",
      "dtypes: object(4)\n",
      "memory usage: 3.3+ MB\n"
     ]
    }
   ],
   "source": [
    "df.info()"
   ]
  },
  {
   "cell_type": "code",
   "execution_count": 5,
   "id": "c8785031",
   "metadata": {},
   "outputs": [
    {
     "data": {
      "text/html": [
       "<div>\n",
       "<style scoped>\n",
       "    .dataframe tbody tr th:only-of-type {\n",
       "        vertical-align: middle;\n",
       "    }\n",
       "\n",
       "    .dataframe tbody tr th {\n",
       "        vertical-align: top;\n",
       "    }\n",
       "\n",
       "    .dataframe thead th {\n",
       "        text-align: right;\n",
       "    }\n",
       "</style>\n",
       "<table border=\"1\" class=\"dataframe\">\n",
       "  <thead>\n",
       "    <tr style=\"text-align: right;\">\n",
       "      <th></th>\n",
       "      <th>title</th>\n",
       "      <th>genre</th>\n",
       "      <th>desc</th>\n",
       "      <th>date</th>\n",
       "    </tr>\n",
       "  </thead>\n",
       "  <tbody>\n",
       "    <tr>\n",
       "      <th>0</th>\n",
       "      <td>Oscar et la dame rose</td>\n",
       "      <td>Oscar et la dame rose</td>\n",
       "      <td>Listening in to a conversation between his doc...</td>\n",
       "      <td>2009</td>\n",
       "    </tr>\n",
       "    <tr>\n",
       "      <th>1</th>\n",
       "      <td>Cupid</td>\n",
       "      <td>thriller</td>\n",
       "      <td>A brother and sister with a past incestuous re...</td>\n",
       "      <td>1997</td>\n",
       "    </tr>\n",
       "    <tr>\n",
       "      <th>2</th>\n",
       "      <td>Young, Wild and Wonderful</td>\n",
       "      <td>adult</td>\n",
       "      <td>As the bus empties the students for their fiel...</td>\n",
       "      <td>1980</td>\n",
       "    </tr>\n",
       "    <tr>\n",
       "      <th>3</th>\n",
       "      <td>The Secret Sin</td>\n",
       "      <td>drama</td>\n",
       "      <td>To help their unemployed father make ends meet...</td>\n",
       "      <td>1915</td>\n",
       "    </tr>\n",
       "    <tr>\n",
       "      <th>4</th>\n",
       "      <td>The Unrecovered</td>\n",
       "      <td>drama</td>\n",
       "      <td>The film's title refers not only to the un-rec...</td>\n",
       "      <td>2007</td>\n",
       "    </tr>\n",
       "  </tbody>\n",
       "</table>\n",
       "</div>"
      ],
      "text/plain": [
       "                       title                  genre  \\\n",
       "0      Oscar et la dame rose  Oscar et la dame rose   \n",
       "1                      Cupid               thriller   \n",
       "2  Young, Wild and Wonderful                  adult   \n",
       "3             The Secret Sin                  drama   \n",
       "4            The Unrecovered                  drama   \n",
       "\n",
       "                                                desc  date  \n",
       "0  Listening in to a conversation between his doc...  2009  \n",
       "1  A brother and sister with a past incestuous re...  1997  \n",
       "2  As the bus empties the students for their fiel...  1980  \n",
       "3  To help their unemployed father make ends meet...  1915  \n",
       "4  The film's title refers not only to the un-rec...  2007  "
      ]
     },
     "execution_count": 5,
     "metadata": {},
     "output_type": "execute_result"
    }
   ],
   "source": [
    "df.rename(columns={'TITLE': 'title','DESCRIPTION': 'desc', 'GENRE': 'genre', 'DATE':'date'}, inplace = True)\n",
    "df.head()"
   ]
  },
  {
   "cell_type": "markdown",
   "id": "eb3faa6e",
   "metadata": {},
   "source": [
    "# Discover target value (GENRE):"
   ]
  },
  {
   "cell_type": "code",
   "execution_count": 6,
   "id": "7d3e61b5",
   "metadata": {},
   "outputs": [
    {
     "name": "stdout",
     "output_type": "stream",
     "text": [
      "Genre counts: 28\n",
      "Genre types percentages:\n",
      ": drama                    25.111148\n",
      "documentary              24.159241\n",
      "comedy                   13.737156\n",
      "short                     9.357648\n",
      "horror                    4.065896\n",
      "thriller                  2.934123\n",
      "action                    2.424964\n",
      "western                   1.903813\n",
      "reality-tv                1.629863\n",
      "family                    1.445385\n",
      "adventure                 1.429705\n",
      "music                     1.348534\n",
      "romance                   1.239692\n",
      "sci-fi                    1.192650\n",
      "adult                     1.088420\n",
      "crime                     0.931614\n",
      "animation                 0.918701\n",
      "sport                     0.796023\n",
      "talk-show                 0.721309\n",
      "fantasy                   0.594942\n",
      "mystery                   0.587562\n",
      "musical                   0.510082\n",
      "biography                 0.487944\n",
      "history                   0.448282\n",
      "game-show                 0.356965\n",
      "news                      0.333905\n",
      "war                       0.243511\n",
      "Oscar et la dame rose     0.000922\n",
      "Name: genre, dtype: float64\n"
     ]
    }
   ],
   "source": [
    "print('Genre counts:', df['genre'].nunique())\n",
    "print('Genre types percentages:\\n:', df['genre'].value_counts()*100/df.shape[0])"
   ]
  },
  {
   "cell_type": "markdown",
   "id": "f2d9b59a",
   "metadata": {},
   "source": [
    "We have differnet 28 genre type, and (drama, documnetary, comedy) genres are the major with about 62% percent of our dataset, so we need to be careful when we make train_test_split, we need to use startified sampling, and also 'Oscar et la dame rose' Genre it only has a 1 record so we will drop it."
   ]
  },
  {
   "cell_type": "code",
   "execution_count": 7,
   "id": "364d9a0e",
   "metadata": {},
   "outputs": [],
   "source": [
    "df.drop(df.loc[(df['genre'] == 'Oscar et la dame rose')].index, inplace = True)"
   ]
  },
  {
   "cell_type": "code",
   "execution_count": 8,
   "id": "56fb92a1",
   "metadata": {},
   "outputs": [
    {
     "data": {
      "text/plain": [
       "drama          27224\n",
       "documentary    26192\n",
       "comedy         14893\n",
       "short          10145\n",
       "horror          4408\n",
       "thriller        3181\n",
       "action          2629\n",
       "western         2064\n",
       "reality-tv      1767\n",
       "family          1567\n",
       "adventure       1550\n",
       "music           1462\n",
       "romance         1344\n",
       "sci-fi          1293\n",
       "adult           1180\n",
       "crime           1010\n",
       "animation        996\n",
       "sport            863\n",
       "talk-show        782\n",
       "fantasy          645\n",
       "mystery          637\n",
       "musical          553\n",
       "biography        529\n",
       "history          486\n",
       "game-show        387\n",
       "news             362\n",
       "war              264\n",
       "Name: genre, dtype: int64"
      ]
     },
     "execution_count": 8,
     "metadata": {},
     "output_type": "execute_result"
    }
   ],
   "source": [
    "df['genre'].value_counts()"
   ]
  },
  {
   "cell_type": "markdown",
   "id": "389276ba",
   "metadata": {},
   "source": [
    "# Split data to train and test:"
   ]
  },
  {
   "cell_type": "code",
   "execution_count": 10,
   "id": "eb263b96",
   "metadata": {},
   "outputs": [],
   "source": [
    "X = df[['title','desc']].copy()\n",
    "y = df['genre'].copy()\n",
    "train_X, train_y, test_X, test_y = train_test_split(X, y, test_size = 0.2, stratify=y)"
   ]
  },
  {
   "cell_type": "markdown",
   "id": "fd9231de",
   "metadata": {},
   "source": [
    "# Text Preprocessing:"
   ]
  },
  {
   "cell_type": "markdown",
   "id": "715d0295",
   "metadata": {},
   "source": [
    "## Remove stop words:"
   ]
  },
  {
   "cell_type": "code",
   "execution_count": 12,
   "id": "7d17e220",
   "metadata": {},
   "outputs": [
    {
     "data": {
      "text/html": [
       "<div>\n",
       "<style scoped>\n",
       "    .dataframe tbody tr th:only-of-type {\n",
       "        vertical-align: middle;\n",
       "    }\n",
       "\n",
       "    .dataframe tbody tr th {\n",
       "        vertical-align: top;\n",
       "    }\n",
       "\n",
       "    .dataframe thead th {\n",
       "        text-align: right;\n",
       "    }\n",
       "</style>\n",
       "<table border=\"1\" class=\"dataframe\">\n",
       "  <thead>\n",
       "    <tr style=\"text-align: right;\">\n",
       "      <th></th>\n",
       "      <th>title</th>\n",
       "      <th>desc</th>\n",
       "    </tr>\n",
       "  </thead>\n",
       "  <tbody>\n",
       "    <tr>\n",
       "      <th>0</th>\n",
       "      <td>Wau: Soaring the Skies in Rich Tradition</td>\n",
       "      <td>The Malaysian \"Wau\" or kites can be found in a...</td>\n",
       "    </tr>\n",
       "    <tr>\n",
       "      <th>1</th>\n",
       "      <td>The Girls of Alden</td>\n",
       "      <td>Eleven-year old Emily Alden is homeschooling b...</td>\n",
       "    </tr>\n",
       "    <tr>\n",
       "      <th>2</th>\n",
       "      <td>Jordan: You Don't Even Know Me</td>\n",
       "      <td>Having spent over two years with the British s...</td>\n",
       "    </tr>\n",
       "    <tr>\n",
       "      <th>3</th>\n",
       "      <td>Keine Kanaken an Bord</td>\n",
       "      <td>Frank S. awakens to find himself on a tour bus...</td>\n",
       "    </tr>\n",
       "    <tr>\n",
       "      <th>4</th>\n",
       "      <td>The Third Clue</td>\n",
       "      <td>Set in an Old Dark House, a man is murdered in...</td>\n",
       "    </tr>\n",
       "  </tbody>\n",
       "</table>\n",
       "</div>"
      ],
      "text/plain": [
       "                                      title  \\\n",
       "0  Wau: Soaring the Skies in Rich Tradition   \n",
       "1                        The Girls of Alden   \n",
       "2            Jordan: You Don't Even Know Me   \n",
       "3                     Keine Kanaken an Bord   \n",
       "4                            The Third Clue   \n",
       "\n",
       "                                                desc  \n",
       "0  The Malaysian \"Wau\" or kites can be found in a...  \n",
       "1  Eleven-year old Emily Alden is homeschooling b...  \n",
       "2  Having spent over two years with the British s...  \n",
       "3  Frank S. awakens to find himself on a tour bus...  \n",
       "4  Set in an Old Dark House, a man is murdered in...  "
      ]
     },
     "execution_count": 12,
     "metadata": {},
     "output_type": "execute_result"
    }
   ],
   "source": [
    "train_X.reset_index(drop=True, inplace = True)\n",
    "train_X.head()"
   ]
  },
  {
   "cell_type": "code",
   "execution_count": 13,
   "id": "90717a9f",
   "metadata": {},
   "outputs": [],
   "source": [
    "en_stopwords = stopwords.words('english')\n",
    "train_X['no_sw_desc'] = train_X['desc'].apply(lambda t: ' '.join([w for w in t.split() if w not in en_stopwords]))"
   ]
  },
  {
   "cell_type": "code",
   "execution_count": 14,
   "id": "4e319173",
   "metadata": {},
   "outputs": [
    {
     "data": {
      "text/html": [
       "<div>\n",
       "<style scoped>\n",
       "    .dataframe tbody tr th:only-of-type {\n",
       "        vertical-align: middle;\n",
       "    }\n",
       "\n",
       "    .dataframe tbody tr th {\n",
       "        vertical-align: top;\n",
       "    }\n",
       "\n",
       "    .dataframe thead th {\n",
       "        text-align: right;\n",
       "    }\n",
       "</style>\n",
       "<table border=\"1\" class=\"dataframe\">\n",
       "  <thead>\n",
       "    <tr style=\"text-align: right;\">\n",
       "      <th></th>\n",
       "      <th>title</th>\n",
       "      <th>desc</th>\n",
       "      <th>no_sw_desc</th>\n",
       "    </tr>\n",
       "  </thead>\n",
       "  <tbody>\n",
       "    <tr>\n",
       "      <th>0</th>\n",
       "      <td>Wau: Soaring the Skies in Rich Tradition</td>\n",
       "      <td>The Malaysian \"Wau\" or kites can be found in a...</td>\n",
       "      <td>The Malaysian \"Wau\" kites found shapes colours...</td>\n",
       "    </tr>\n",
       "    <tr>\n",
       "      <th>1</th>\n",
       "      <td>The Girls of Alden</td>\n",
       "      <td>Eleven-year old Emily Alden is homeschooling b...</td>\n",
       "      <td>Eleven-year old Emily Alden homeschooling fana...</td>\n",
       "    </tr>\n",
       "    <tr>\n",
       "      <th>2</th>\n",
       "      <td>Jordan: You Don't Even Know Me</td>\n",
       "      <td>Having spent over two years with the British s...</td>\n",
       "      <td>Having spent two years British supermodel, Jor...</td>\n",
       "    </tr>\n",
       "    <tr>\n",
       "      <th>3</th>\n",
       "      <td>Keine Kanaken an Bord</td>\n",
       "      <td>Frank S. awakens to find himself on a tour bus...</td>\n",
       "      <td>Frank S. awakens find tour bus idea got headed...</td>\n",
       "    </tr>\n",
       "    <tr>\n",
       "      <th>4</th>\n",
       "      <td>The Third Clue</td>\n",
       "      <td>Set in an Old Dark House, a man is murdered in...</td>\n",
       "      <td>Set Old Dark House, man murdered study. With d...</td>\n",
       "    </tr>\n",
       "  </tbody>\n",
       "</table>\n",
       "</div>"
      ],
      "text/plain": [
       "                                      title  \\\n",
       "0  Wau: Soaring the Skies in Rich Tradition   \n",
       "1                        The Girls of Alden   \n",
       "2            Jordan: You Don't Even Know Me   \n",
       "3                     Keine Kanaken an Bord   \n",
       "4                            The Third Clue   \n",
       "\n",
       "                                                desc  \\\n",
       "0  The Malaysian \"Wau\" or kites can be found in a...   \n",
       "1  Eleven-year old Emily Alden is homeschooling b...   \n",
       "2  Having spent over two years with the British s...   \n",
       "3  Frank S. awakens to find himself on a tour bus...   \n",
       "4  Set in an Old Dark House, a man is murdered in...   \n",
       "\n",
       "                                          no_sw_desc  \n",
       "0  The Malaysian \"Wau\" kites found shapes colours...  \n",
       "1  Eleven-year old Emily Alden homeschooling fana...  \n",
       "2  Having spent two years British supermodel, Jor...  \n",
       "3  Frank S. awakens find tour bus idea got headed...  \n",
       "4  Set Old Dark House, man murdered study. With d...  "
      ]
     },
     "execution_count": 14,
     "metadata": {},
     "output_type": "execute_result"
    }
   ],
   "source": [
    "train_X.head()"
   ]
  },
  {
   "cell_type": "code",
   "execution_count": 15,
   "id": "8cbaebb5",
   "metadata": {},
   "outputs": [],
   "source": [
    "train_X['no_punc_sw_desc'] = train_X['no_sw_desc'].apply(lambda t: re.sub(r\"([^\\w\\s])\", \"\", t)) "
   ]
  },
  {
   "cell_type": "markdown",
   "id": "cc8ecaf2",
   "metadata": {},
   "source": [
    "## Stemming vs. Lemmatization:\n",
    "I favorite lemmatization more than stemming, but I will use stemming now because our data is big."
   ]
  },
  {
   "cell_type": "code",
   "execution_count": 16,
   "id": "9f415051",
   "metadata": {},
   "outputs": [],
   "source": [
    "ps = PorterStemmer()\n",
    "train_X['stemmed_no_punc_sw_desc'] = train_X['no_punc_sw_desc'].apply(lambda t: ' '.join([ps.stem(w) for w in t.split()]))"
   ]
  },
  {
   "cell_type": "code",
   "execution_count": 18,
   "id": "9fa3c1a3",
   "metadata": {},
   "outputs": [
    {
     "name": "stdout",
     "output_type": "stream",
     "text": [
      "Original:\n",
      " The Malaysian Wau kites found shapes colours bamboo frames brightly decorated intricate floral cutouts designs pasted shimmering paper multitude vibrant colours A bowshaped device attached neck emanates pleasant highpitched humming sound soars skies enhances eyecatching wau Waumaking ancient art form one traditionally passed father son Traditionally wau flying especially popular east coast states Peninsular Malaysia namely Kelantan Terengganu commonly flown end harvesting season Today cultural heritage Malaysian Wau preserved become popular sporting activity amongst Malay community Come join us Enigmatic Malaysia follow life three Wau makers prepare International Kite Festival Tumpat Kelantan\n",
      "\n",
      "-------------\n",
      "Stemmed:\n",
      " the malaysian wau kite found shape colour bamboo frame brightli decor intric floral cutout design past shimmer paper multitud vibrant colour a bowshap devic attach neck eman pleasant highpitch hum sound soar sky enhanc eyecatch wau waumak ancient art form one tradit pass father son tradit wau fli especi popular east coast state peninsular malaysia name kelantan terengganu commonli flown end harvest season today cultur heritag malaysian wau preserv becom popular sport activ amongst malay commun come join us enigmat malaysia follow life three wau maker prepar intern kite festiv tumpat kelantan\n"
     ]
    }
   ],
   "source": [
    "print('Original:\\n', train_X['no_punc_sw_desc'][0])\n",
    "print('\\n-------------\\nStemmed:\\n', train_X['stemmed_no_punc_sw_desc'][0])"
   ]
  },
  {
   "cell_type": "code",
   "execution_count": null,
   "id": "1f7ef330",
   "metadata": {},
   "outputs": [],
   "source": []
  }
 ],
 "metadata": {
  "kernelspec": {
   "display_name": "Python 3 (ipykernel)",
   "language": "python",
   "name": "python3"
  },
  "language_info": {
   "codemirror_mode": {
    "name": "ipython",
    "version": 3
   },
   "file_extension": ".py",
   "mimetype": "text/x-python",
   "name": "python",
   "nbconvert_exporter": "python",
   "pygments_lexer": "ipython3",
   "version": "3.9.12"
  }
 },
 "nbformat": 4,
 "nbformat_minor": 5
}
